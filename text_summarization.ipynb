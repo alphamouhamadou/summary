{
  "cells": [
    {
      "cell_type": "markdown",
      "metadata": {
        "id": "3Ob6Jc07nKjZ"
      },
      "source": [
        "## <font color=\"#F0000\"> Text summarization avec nltk"
      ]
    },
    {
      "cell_type": "markdown",
      "metadata": {
        "id": "spBRRCKCTr1w"
      },
      "source": [
        "### <font color=\"#48dbfb\"> Import les packages"
      ]
    },
    {
      "cell_type": "code",
      "execution_count": 2,
      "metadata": {
        "id": "1pCLatnlTr1y"
      },
      "outputs": [
        {
          "name": "stderr",
          "output_type": "stream",
          "text": [
            "[nltk_data] Downloading package punkt to\n",
            "[nltk_data]     C:\\Users\\morcodou.seck\\AppData\\Roaming\\nltk_data...\n",
            "[nltk_data]   Package punkt is already up-to-date!\n",
            "[nltk_data] Downloading package stopwords to\n",
            "[nltk_data]     C:\\Users\\morcodou.seck\\AppData\\Roaming\\nltk_data...\n",
            "[nltk_data]   Package stopwords is already up-to-date!\n"
          ]
        },
        {
          "data": {
            "text/plain": [
              "True"
            ]
          },
          "execution_count": 2,
          "metadata": {},
          "output_type": "execute_result"
        }
      ],
      "source": [
        "# Importer packages\n",
        "from bs4 import BeautifulSoup as bs\n",
        "from requests import get\n",
        "import re\n",
        "import nltk\n",
        "nltk.download('punkt')\n",
        "nltk.download('stopwords')"
      ]
    },
    {
      "cell_type": "markdown",
      "metadata": {
        "id": "NlNxTcWmTr13"
      },
      "source": [
        "### <font color=\"#48dbfb\">Scraper des articles sur Wikipedia"
      ]
    },
    {
      "cell_type": "code",
      "execution_count": 3,
      "metadata": {
        "id": "L80gVJiZ1fvJ"
      },
      "outputs": [],
      "source": [
        "# Importer des données sur la cuisine iraniéne\n",
        "resp = get('https://en.wikipedia.org/wiki/Iranian_cuisine')\n",
        "# resp = get('https://fr.wikipedia.org/wiki/Cuisine_iranienne')\n",
        "\n",
        "article_soup = bs(resp.text)\n",
        "\n",
        "paragraphs = article_soup.find_all('p')\n",
        "\n",
        "article_text = \"\"\n",
        "\n",
        "for p in paragraphs:\n",
        "    article_text += p.text"
      ]
    },
    {
      "cell_type": "code",
      "execution_count": 3,
      "metadata": {
        "id": "KAtbgwtwTr15"
      },
      "outputs": [
        {
          "data": {
            "text/plain": [
              "'\\nIranian cuisine (Persian: آشپزی ایرانی, romanized:\\xa0Āshpazī Irānī) are the culinary traditions of Iran. Due to the historically common usage of the term \"Persia\" to refer to Iran in the Western world,[2][3][4] it is alternatively known as Persian cuisine, despite Persians being only one of a multitude of Iranian ethnic groups who have contributed to Iran\\'s culinary traditions.[a]\\nThe cuisine of Iran has made extensive contact throughout its history with the cuisines of its neighbouring regions, including Caucasian cuisine, Central Asian cuisine, Greek cuisine, Levantine cuisine, Mesopotamian cuisine, Russian cuisine and Turkish cuisine.[6][7][8][9] Aspects of Iranian cuisine have also been significantly adopted by Indian cuisine and Pakistani cuisine through various historical Persianate sultanates that flourished during Muslim rule on the Indian subcontinent, with the most notable and impactful of these polities being the Mughal Empire.[10][11][12]\\nTypical Iranian main dishes are combinations of rice with meat, vegetables and nuts. Herbs are frequently used, along with fruits such as plums, pomegranates, quince, prunes, apricots and raisins. Characteristic Iranian spices and flavourings such as saffron, cardamom, and dried lime and other sources of sour flavoring, cinnamon, turmeric and parsley are mixed and used in various dishes.\\nOutside of Iran, a strong presence of Iranian cuisine can be found in cities with significant Iranian diaspora populations, namely the San Francisco Bay Area, Vancouver, Toronto,[13][14][15][16] Houston and especially Los Angeles and its environs.[13][14][17]\\nAmong the writings available from the Middle Persian scripts, the treatise of Khosrow and Ridag, points about stews and foods and the way of using them and how they are obtained in the Sassanid period are found as valid references in compiling the history of cooking in Iran. The names of many of the Iranian dishes and culinary terms that have been translated can be seen in Arabic language books. Naturally the customs and habits of the Arabs influenced the Iranians, specifically in Abbasid period.\\nAncient Persian philosophers and physicians have influenced the preparation of Iranian foods to follow the rules of the strengthening and weakening characteristics of foods based on the Iranian traditional medicine.[18]\\nAlthough the Arabic cookbooks written under the rule of the Abbasid Caliphate—one of the Arab caliphates which ruled Iran after the Muslim invasion—include some recipes with Iranian names, the earliest surviving classical cookbooks in Persian are two volumes from the Safavid period. The older one is entitled \"Manual on cooking and its craft\" (Kār-nāmeh dar bāb e tabbāxī va sanat e ān) written in 927/1521 for an aristocratic patron at the end of the reign of Ismail I. The book originally contained 26 chapters, listed by the author in his introduction, but chapters 23 through 26 are missing from the surviving manuscript. The recipes include measurements for ingredients—often detailed directions for the preparation of dishes, including the types of utensils and pots to be used—and instructions for decorating and serving them. In general, the ingredients and their combinations in various recipes do not differ significantly from those in use today. The large quantities specified, as well as the generous use of such luxury ingredients as saffron, suggest that these dishes were prepared for large aristocratic households, even though in his introduction, the author claimed to have written it \"for the benefit of the nobility, as well as the public.\"\\nThe second surviving Safavid cookbook, entitled \"The substance of life, a treatise on the art of cooking\" (Māddat al-ḥayāt, resāla dar ʿelm e ṭabbāxī), was written about 76 years later by a chef for Abbas I. The introduction of that book includes elaborate praise of God, the prophets, the imams, and the shah, as well as a definition of a master chef. It is followed by six chapters on the preparation of various dishes: four on rice dishes, one on qalya, and one on āsh. The measurements and directions are not as detailed as in the earlier book. The information provided is about dishes prepared at the royal court, including references to a few that had been created or improved by the shahs themselves. Other contemporary cooks and their specialties are also mentioned.[19]\\nThe usage of rice, at first a specialty of the Safavid Empire\\'s court cuisine, evolved by the end of the 16th century CE into a major branch of Iranian cookery.[20] Traditionally, rice was most prevalent as a major staple item in northern Iran and the homes of the wealthy, while bread was the dominant staple in the rest of the country.\\nVarieties of rice in Iran include gerde, domsia (literally meaning black-tail, because it is black at one end), champa, doodi (smoked rice), Lenjan (from Lenjan County), Tarom (from Tarom County), and anbarbu.\\nThe following table includes three primary methods of cooking rice in Iran.\\nIranian-style rice-cooking\\nSoaking rice in a pot\\nUsing potatoes as tadig in chelow-style rice-cooking\\nPotato tadig\\nTadig of lavash bread\\nSecond only to rice is the production and use of wheat. The following table lists several forms of flatbread and pastry bread commonly used in Iranian cuisine.\\nThe agriculture of Iran produces many fruits and vegetables. Thus, a bowl of fresh fruit is common on Iranian tables, and vegetables are standard side dishes with most meals. These are not only enjoyed fresh and ripe as desserts but are also combined with meat as accompaniments to main dishes.[23] When fresh fruits are not available, a large variety of dried fruits such as dates, figs, apricots, plums and peaches are served instead. Southern Iran is one of the world\\'s major date producers, where some special cultivars such as the Bam date are grown.\\nVegetables such as pumpkins, spinach, green beans, fava beans, courgette, varieties of squash, onion, garlic and carrot are commonly used in Iranian dishes. Tomatoes, cucumbers and scallion often accompany a meal. While the eggplant is \"the potato of Iran\",[24] Iranians are fond of fresh green salads dressed with olive oil, lemon juice, salt, chili, and garlic.\\nFruit dolma is probably a specialty of Iranian cuisine. The fruit is first cooked, then stuffed with meat, seasonings, and sometimes tomato sauce. The dolma is then simmered in meat broth or a sweet-and-sour sauce.[25]\\nVerjuice, a highly acidic juice made by pressing unripe grapes or other sour fruit, is used in various Iranian dishes.[26] It is mainly used within soup and stew dishes, but also to simmer a type of squash dolma. Unripe grapes are also used whole in some dishes such as khoresh e qure (lamb stew with sour grapes). As a spice, verjuice powder (pudr e qure) is sometimes reinforced by verjuice and then dried.\\nAdvieh or chāshni refers to a wide variety of pungent vegetables and dried fruits that are used in Iranian cuisine to flavor food.\\nOne of the traditional and most widespread Iranian spices is saffron, derived from the flower of Crocus sativus. Rose water, a flavored water made by steeping rose petals in water, is also a traditional and common ingredient in many Iranian dishes.\\nPersian hogweed (golpar), which grows wild in the humid mountainous regions of Iran, is used as a spice in various Iranian soups and stews. It is also mixed with vinegar into which broad beans are dipped before eating.\\nSome other common spices are cardamom, made from the seeds of several Elettaria and Amomum plants; shevid, an annual herb in the celery family Apiaceae; mahleb, an aromatic spice made from the seeds of Prunus mahaleb; and limu amani, dried lime.\\nThere are also several traditional combinations of spices, two of which are arde, made from toasted ground hulled sesame seeds, and delal sauce, made of heavily salted fresh herbs such as cilantro and parsley.\\nTypical Iranian cuisine includes a wide variety of dishes, including several forms of kebab, stew, soup, and pilaf dishes, as well as various salads, desserts, pastries, and drinks.\\nIn Iran, kebabs are served either with rice or with bread. A dish of chelow white rice with kebab is called chelow kabab, which is considered the national dish of Iran. The rice can also be prepared using the kateh method, and hence the dish would be called kateh kabab.\\nThe following table lists several forms of kebab used in Iranian cuisine.\\nKhoresh is an Iranian form of stew, which is usually accompanied by a plate of white rice. A khoresh typically consists of herbs, fruits, and meat pieces, flavored with tomato paste, saffron, and pomegranate juice. Other non-khoresh types of stew such as dizi are accompanied by bread instead of rice.\\nSeveral Iranian stew dishes are listed within the following table.\\n\\nThere are various forms of soup in Iranian cuisine, including sup e jow (barley soup), sup e esfenaj (spinach soup), sup e qarch (mushroom soup), and several forms of thick soup. A thick soup is referred to as āsh in Iran, which is an Iranian traditional form of soup.[37] Also, shole qalamkar is the Iranian term for \"hodge-podge\" soup,[38] a soup made of a mixture of various ingredients.\\nThe following table lists a number of soup and āsh dishes in Iranian cuisine.\\nApart from dishes of rice with kebab or stew, there are various rice-based Iranian dishes cooked in the traditional methods of polow and dami.\\nPolow is the Persian word for pilaf and it is also used in other Iranian languages, in the English language it may have variations in spelling. A polow dish includes rice stuffed with cuts of vegetables, fruits, and beans, usually accompanied by either chicken or red meat. Dami dishes are similar to polow in that they involve various ingredients with rice, however they are cooked using the dami method of cooking the dish all in one pot.\\nThe following are a number of traditional Iranian rice-based dishes:\\nIn 400 BC, the ancient Iranians invented a special chilled food, made of rose water and vermicelli, which was served to royalty in summertime.[49] The ice was mixed with saffron, fruits, and various other flavors. Today, one of the most famous Iranian desserts in the semi-frozen noodle dessert known as faloodeh, which has its roots in the city of Shiraz, a former capital of the country.[50][51] Bastani e zaferani, Persian for \"saffron ice cream\", is a traditional Iranian ice cream which is also commonly referred to as \"the traditional ice cream\". Other typical Iranian desserts include several forms of rice, wheat and dairy desserts.\\nThe following is a list of several Iranian desserts.\\nCookies appear to have their origins in 7th-century Iran, shortly after the use of sugar became relatively common in the region.[53] There are numerous traditional native and adopted types of snack food in modern Iran, of which some are listed within the following table.\\nIran is one of the world\\'s major tea producers,[57][better\\xa0source\\xa0needed] mostly cultivated in its northern regions. In Iranian culture, tea (čāy) is widely consumed[58][59] and is typically the first thing offered to a guest.[60] Iranians traditionally put a lump of sugar cube in the mouth before drinking the tea.[61] Rock candies are also widely used, typically flavored with saffron.\\nIran\\'s traditional coffee (qahve, or kāfe) is served strong, sweet, and \"booby-trapped with a sediment of grounds\".[62] In 16th-century Safavid Iran, coffee was initially used for medical purposes among the society.[63] Traditional coffeehouses were popular gatherings, in which people drank coffee, smoked tobacco, and recited poetry—especially the epic poems of Shahnameh.[64] In present-day Iran, cafés are trendy mostly in urban areas, where a variety of brews and desserts are served.[62] Turkish coffee is also popular in Iran, more specifically among Iranian Azeris.[65][66]\\nWine (mey) has also a significant presence in Iranian culture. Shirazi wine is Iran\\'s historically most famous wine production, originating from the city of Shiraz.[67][68][69] By the 9th century, the city of Shiraz had already established a reputation for producing the finest wine in the world,[68] and was Iran\\'s wine capital. Since the 1979 Revolution, alcoholic beverages have been prohibited in Iran; though non-Muslim recognized minorities (i.e. Christians, Jews, and Zoroastrians) are allowed to produce alcoholic beverages for their own use.[70] While non-alcoholic beer (ābjow) is available from legal outlets, other citizens prepare their alcoholic beverages illegally through the minority groups[71][72][73] and largely from Iraqi Kurdistan and Turkey.[74]\\nAraq sagi, literally meaning \"doggy distillate\", is a type of distilled alcoholic beverage in Iran which contains at least 65% pure ethanol. It is usually produced at homes from raisins, and is similar to Turkish rakı.[75] Prior to the 1979 Revolution, it had been produced traditionally in several cities of Iran. Since it was outlawed following the 1979 Revolution, it has become a black market and underground business.\\nThe following table lists several Iranian cold beverages.\\nThe Azerbaijani people, living primarily in the region of Azerbaijan in northwestern Iran, have a number of local dishes that include Bonab kabab (Binab kababı),[79] the dumpling dish of joshpara (düşbərə), an offal-based dish named jaqul baqul typically containing liver and heart,[80] a variety of āsh called kələcoş,[81] a variation of qeyme that is called pıçaq, and a variation of kufte that is called Tabriz meatballs. There is also the traditional pastry of shekerbura (şəkərbura), which is identical to Khorasan\\'s shekarpare (šekarpāre). Despite the influences from Turkey, the food tastes noticeably Iranian, though also with its own unique features, such as using more lemon juice and butter than other groups of Iranians.[82]\\nMeat and dates are the main ingredients in the cuisine of Iran\\'s southeastern region of Baluchistan.[83][84] Rice is primarily cultivated in the region of Makran.[83][84] Foods that are specific to the Iranian region of Baluchistan include tanurche (tarōnča; tanurče), a local variety of grilled meat that is prepared in a tanur, doogh-pa (dōq-pâ), a type of khoresh that contains doogh, and tabahag (tabâhag), that is meat prepared with pomegranate powder.[83][84] Baluchi cuisine also includes several date-based dishes, as well as various types of bread.[83][84]\\nThe southern coast of the Caspian Sea, which consists of the Iranian provinces of Gilan, Mazanderan, Alborz, and Golestan, has a fertile environment that is also reflected in its cuisine.[85][86] Kateh is a method of cooking rice that originates from this region.[87] This type of rice dish is also eaten there as a breakfast meal, either heated with milk and jam or cold with cheese and garlic. Caviar fish roes also hail from this region, and are typically served with eggs in frittatas and omelettesor eaten simply with Lavash and Butter. Fish is commonly eaten in the Gilan province, where Caspian Kutum is a staple[88] and usually served fried[89] along with rice. Smoked fish (Persian: ماهی دودی, Romanized: Mahi doodi) is also popular in Gilan[90] and usually incorporated into rice by steaming the two together.[91] Local cookies (koluče) of the region are popular desert items,[86] particularly those from the region of Fuman. Another notable dessert from this region is Reshteh Khoshkar (Persian: رشته\\u200cخشکار), consisting of fried rice flour dough filled with sugar and nuts. Medlar is also commonly eaten in Gilan[92] and locally referred to as \"Konos\" (Persian: کونوس).\\nThe region of Kurdistan in western Iran is home to a variety of local āsh, pilaf, and stew dishes.[93] Some local Kurdish dishes include a traditional grilled rib meat that is called dande kabāb,[94] a type of khoresh made of chives that is called xoreš-e tare,[95] and a dish of rice and potatoes that is called sib polow.[96]\\nThe food of southern Iran is typically spicy.[97] Mahyawa is a tangy sauce made of fermented fish in this region.[citation needed] Being a coastal region, Khuzestan\\'s cuisine includes especially seafood, as well as some unique local beverages.[98] In southern Khuzestan, there is also a variation of kufte that is known as kibbeh and is made of ground meat, cracked wheat, different types of herbs and vegetables and various spices.\\nIran\\'s Turkmen people are predominantly centered in the Iranian provinces of Golestan and North Khorasan. Chegderme (čekderme) is a Turkmen dish made of rice, meat, and tomato paste.[99]\\nThe basic traditional Iranian breakfast consists of a variety of flat breads, butter cubes, white cheese, whipped heavy cream (sarshir; often sweetened with honey), nuts (especially walnuts) and a variety of fruit jams and spreads.\\nMany cities and towns across Iran feature their own distinct versions of breakfast dishes. Pache, a popular traditional dish widely eaten in Iran and the neighboring Caucasus, is almost always only served from three in the morning until sometime after dawn, and specialty restaurants (serving only pache) are only open during those hours.\\nTraditional Iranian cooking is done in stages, at times needing hours of preparation and attention. The outcome is a well-balanced mixture of herbs, meat, beans, dairy products, and vegetables. Major staples of Iranian food that are usually eaten with every meal include rice, various herbs, cheese, a variety of flat breads, and some type of meat (usually poultry, beef, lamb, or fish). Stew over rice is by far the most popular dish, and the constitution of these vary by region.\\nTraditional Iranian table setting firstly involves the tablecloth, called sofre, and is spread out over either a table or a rug. Main dishes are concentrated in the middle, surrounded by smaller dishes containing appetizers, condiments, and side dishes, all of which are nearest to the diners. When the food is perfectly served, an invitation is made to seat at the sofre and start having the meal.\\n'"
            ]
          },
          "execution_count": 3,
          "metadata": {},
          "output_type": "execute_result"
        }
      ],
      "source": [
        "# Afficher article_text\n",
        "article_text"
      ]
    },
    {
      "cell_type": "markdown",
      "metadata": {
        "id": "CaSYeXeQTr16"
      },
      "source": [
        "### <font color=\"#48dbfb\"> Nettoyer les données"
      ]
    },
    {
      "cell_type": "code",
      "execution_count": 4,
      "metadata": {
        "id": "i_4EmP8l1tLi"
      },
      "outputs": [
        {
          "name": "stderr",
          "output_type": "stream",
          "text": [
            "C:\\Users\\morcodou.seck\\AppData\\Local\\Temp\\ipykernel_92304\\2108146441.py:2: FutureWarning: Possible nested set at position 1\n",
            "  article_text = re.sub(r'[[\\w]*]', ' ', article_text)\n"
          ]
        }
      ],
      "source": [
        "# Supprimer [\\w]*\n",
        "article_text = re.sub(r'[[\\w]*]', ' ', article_text)\n",
        "# Supprimer les chaines de \\xa0, \\u200c\n",
        "article_text = re.sub(r'\\xa0|\\u200c', ' ', article_text)\n",
        "# Remplacer les espaces multiples par l'espace simple\n",
        "article_text = re.sub(r'/s+', ' ', article_text)\n",
        "# Remplacer l'espace en debut et fin de corpus\n",
        "article_text = re.sub(r'^\\s|\\s$', '', article_text)"
      ]
    },
    {
      "cell_type": "code",
      "execution_count": 7,
      "metadata": {
        "id": "44QaOR9kTr19"
      },
      "outputs": [
        {
          "data": {
            "text/plain": [
              "'Iranian cuisine (Persian: آشپزی ایرانی, romanized: Āshpazī Irānī) are the culinary traditions of Iran. Due to the historically common usage of the term \"Persia\" to refer to Iran in the Western world,    it is alternatively known as Persian cuisine, despite Persians being only one of a multitude of Iranian ethnic groups who have contributed to Iran\\'s culinary traditions. \\nThe cuisine of Iran has made extensive contact throughout its history with the cuisines of its neighbouring regions, including Caucasian cuisine, Central Asian cuisine, Greek cuisine, Levantine cuisine, Mesopotamian cuisine, Russian cuisine and Turkish cuisine.     Aspects of Iranian cuisine have also been significantly adopted by Indian cuisine and Pakistani cuisine through various historical Persianate sultanates that flourished during Muslim rule on the Indian subcontinent, with the most notable and impactful of these polities being the Mughal Empire.   \\nTypical Iranian main dishes are combinations of rice with meat, vegetables and nuts. Herbs are frequently used, along with fruits such as plums, pomegranates, quince, prunes, apricots and raisins. Characteristic Iranian spices and flavourings such as saffron, cardamom, and dried lime and other sources of sour flavoring, cinnamon, turmeric and parsley are mixed and used in various dishes.\\nOutside of Iran, a strong presence of Iranian cuisine can be found in cities with significant Iranian diaspora populations, namely the San Francisco Bay Area, Vancouver, Toronto,     Houston and especially Los Angeles and its environs.   \\nAmong the writings available from the Middle Persian scripts, the treatise of Khosrow and Ridag, points about stews and foods and the way of using them and how they are obtained in the Sassanid period are found as valid references in compiling the history of cooking in Iran. The names of many of the Iranian dishes and culinary terms that have been translated can be seen in Arabic language books. Naturally the customs and habits of the Arabs influenced the Iranians, specifically in Abbasid period.\\nAncient Persian philosophers and physicians have influenced the preparation of Iranian foods to follow the rules of the strengthening and weakening characteristics of foods based on the Iranian traditional medicine. \\nAlthough the Arabic cookbooks written under the rule of the Abbasid Caliphate—one of the Arab caliphates which ruled Iran after the Muslim invasion—include some recipes with Iranian names, the earliest surviving classical cookbooks in Persian are two volumes from the Safavid period. The older one is entitled \"Manual on cooking and its craft\" (Kār-nāmeh dar bāb e tabbāxī va sanat e ān) written in 927/1521 for an aristocratic patron at the end of the reign of Ismail I. The book originally contained 26 chapters, listed by the author in his introduction, but chapters 23 through 26 are missing from the surviving manuscript. The recipes include measurements for ingredients—often detailed directions for the preparation of dishes, including the types of utensils and pots to be used—and instructions for decorating and serving them. In general, the ingredients and their combinations in various recipes do not differ significantly from those in use today. The large quantities specified, as well as the generous use of such luxury ingredients as saffron, suggest that these dishes were prepared for large aristocratic households, even though in his introduction, the author claimed to have written it \"for the benefit of the nobility, as well as the public.\"\\nThe second surviving Safavid cookbook, entitled \"The substance of life, a treatise on the art of cooking\" (Māddat al-ḥayāt, resāla dar ʿelm e ṭabbāxī), was written about 76 years later by a chef for Abbas I. The introduction of that book includes elaborate praise of God, the prophets, the imams, and the shah, as well as a definition of a master chef. It is followed by six chapters on the preparation of various dishes: four on rice dishes, one on qalya, and one on āsh. The measurements and directions are not as detailed as in the earlier book. The information provided is about dishes prepared at the royal court, including references to a few that had been created or improved by the shahs themselves. Other contemporary cooks and their specialties are also mentioned. \\nThe usage of rice, at first a specialty of the Safavid Empire\\'s court cuisine, evolved by the end of the 16th century CE into a major branch of Iranian cookery.  Traditionally, rice was most prevalent as a major staple item in northern Iran and the homes of the wealthy, while bread was the dominant staple in the rest of the country.\\nVarieties of rice in Iran include gerde, domsia (literally meaning black-tail, because it is black at one end), champa, doodi (smoked rice), Lenjan (from Lenjan County), Tarom (from Tarom County), and anbarbu.\\nThe following table includes three primary methods of cooking rice in Iran.\\nIranian-style rice-cooking\\nSoaking rice in a pot\\nUsing potatoes as tadig in chelow-style rice-cooking\\nPotato tadig\\nTadig of lavash bread\\nSecond only to rice is the production and use of wheat. The following table lists several forms of flatbread and pastry bread commonly used in Iranian cuisine.\\nThe agriculture of Iran produces many fruits and vegetables. Thus, a bowl of fresh fruit is common on Iranian tables, and vegetables are standard side dishes with most meals. These are not only enjoyed fresh and ripe as desserts but are also combined with meat as accompaniments to main dishes.  When fresh fruits are not available, a large variety of dried fruits such as dates, figs, apricots, plums and peaches are served instead. Southern Iran is one of the world\\'s major date producers, where some special cultivars such as the Bam date are grown.\\nVegetables such as pumpkins, spinach, green beans, fava beans, courgette, varieties of squash, onion, garlic and carrot are commonly used in Iranian dishes. Tomatoes, cucumbers and scallion often accompany a meal. While the eggplant is \"the potato of Iran\",  Iranians are fond of fresh green salads dressed with olive oil, lemon juice, salt, chili, and garlic.\\nFruit dolma is probably a specialty of Iranian cuisine. The fruit is first cooked, then stuffed with meat, seasonings, and sometimes tomato sauce. The dolma is then simmered in meat broth or a sweet-and-sour sauce. \\nVerjuice, a highly acidic juice made by pressing unripe grapes or other sour fruit, is used in various Iranian dishes.  It is mainly used within soup and stew dishes, but also to simmer a type of squash dolma. Unripe grapes are also used whole in some dishes such as khoresh e qure (lamb stew with sour grapes). As a spice, verjuice powder (pudr e qure) is sometimes reinforced by verjuice and then dried.\\nAdvieh or chāshni refers to a wide variety of pungent vegetables and dried fruits that are used in Iranian cuisine to flavor food.\\nOne of the traditional and most widespread Iranian spices is saffron, derived from the flower of Crocus sativus. Rose water, a flavored water made by steeping rose petals in water, is also a traditional and common ingredient in many Iranian dishes.\\nPersian hogweed (golpar), which grows wild in the humid mountainous regions of Iran, is used as a spice in various Iranian soups and stews. It is also mixed with vinegar into which broad beans are dipped before eating.\\nSome other common spices are cardamom, made from the seeds of several Elettaria and Amomum plants; shevid, an annual herb in the celery family Apiaceae; mahleb, an aromatic spice made from the seeds of Prunus mahaleb; and limu amani, dried lime.\\nThere are also several traditional combinations of spices, two of which are arde, made from toasted ground hulled sesame seeds, and delal sauce, made of heavily salted fresh herbs such as cilantro and parsley.\\nTypical Iranian cuisine includes a wide variety of dishes, including several forms of kebab, stew, soup, and pilaf dishes, as well as various salads, desserts, pastries, and drinks.\\nIn Iran, kebabs are served either with rice or with bread. A dish of chelow white rice with kebab is called chelow kabab, which is considered the national dish of Iran. The rice can also be prepared using the kateh method, and hence the dish would be called kateh kabab.\\nThe following table lists several forms of kebab used in Iranian cuisine.\\nKhoresh is an Iranian form of stew, which is usually accompanied by a plate of white rice. A khoresh typically consists of herbs, fruits, and meat pieces, flavored with tomato paste, saffron, and pomegranate juice. Other non-khoresh types of stew such as dizi are accompanied by bread instead of rice.\\nSeveral Iranian stew dishes are listed within the following table.\\n\\nThere are various forms of soup in Iranian cuisine, including sup e jow (barley soup), sup e esfenaj (spinach soup), sup e qarch (mushroom soup), and several forms of thick soup. A thick soup is referred to as āsh in Iran, which is an Iranian traditional form of soup.  Also, shole qalamkar is the Iranian term for \"hodge-podge\" soup,  a soup made of a mixture of various ingredients.\\nThe following table lists a number of soup and āsh dishes in Iranian cuisine.\\nApart from dishes of rice with kebab or stew, there are various rice-based Iranian dishes cooked in the traditional methods of polow and dami.\\nPolow is the Persian word for pilaf and it is also used in other Iranian languages, in the English language it may have variations in spelling. A polow dish includes rice stuffed with cuts of vegetables, fruits, and beans, usually accompanied by either chicken or red meat. Dami dishes are similar to polow in that they involve various ingredients with rice, however they are cooked using the dami method of cooking the dish all in one pot.\\nThe following are a number of traditional Iranian rice-based dishes:\\nIn 400 BC, the ancient Iranians invented a special chilled food, made of rose water and vermicelli, which was served to royalty in summertime.  The ice was mixed with saffron, fruits, and various other flavors. Today, one of the most famous Iranian desserts in the semi-frozen noodle dessert known as faloodeh, which has its roots in the city of Shiraz, a former capital of the country.   Bastani e zaferani, Persian for \"saffron ice cream\", is a traditional Iranian ice cream which is also commonly referred to as \"the traditional ice cream\". Other typical Iranian desserts include several forms of rice, wheat and dairy desserts.\\nThe following is a list of several Iranian desserts.\\nCookies appear to have their origins in 7th-century Iran, shortly after the use of sugar became relatively common in the region.  There are numerous traditional native and adopted types of snack food in modern Iran, of which some are listed within the following table.\\nIran is one of the world\\'s major tea producers, [better source   mostly cultivated in its northern regions. In Iranian culture, tea (čāy) is widely    and is typically the first thing offered to a guest.  Iranians traditionally put a lump of sugar cube in the mouth before drinking the tea.  Rock candies are also widely used, typically flavored with saffron.\\nIran\\'s traditional coffee (qahve, or kāfe) is served strong, sweet, and \"booby-trapped with a sediment of grounds\".  In 16th-century Safavid Iran, coffee was initially used for medical purposes among the society.  Traditional coffeehouses were popular gatherings, in which people drank coffee, smoked tobacco, and recited poetry—especially the epic poems of Shahnameh.  In present-day Iran, cafés are trendy mostly in urban areas, where a variety of brews and desserts are served.  Turkish coffee is also popular in Iran, more specifically among Iranian Azeris.  \\nWine (mey) has also a significant presence in Iranian culture. Shirazi wine is Iran\\'s historically most famous wine production, originating from the city of Shiraz.    By the 9th century, the city of Shiraz had already established a reputation for producing the finest wine in the world,  and was Iran\\'s wine capital. Since the 1979 Revolution, alcoholic beverages have been prohibited in Iran; though non-Muslim recognized minorities (i.e. Christians, Jews, and Zoroastrians) are allowed to produce alcoholic beverages for their own use.  While non-alcoholic beer (ābjow) is available from legal outlets, other citizens prepare their alcoholic beverages illegally through the minority     and largely from Iraqi Kurdistan and Turkey. \\nAraq sagi, literally meaning \"doggy distillate\", is a type of distilled alcoholic beverage in Iran which contains at least 65% pure ethanol. It is usually produced at homes from raisins, and is similar to Turkish rakı.  Prior to the 1979 Revolution, it had been produced traditionally in several cities of Iran. Since it was outlawed following the 1979 Revolution, it has become a black market and underground business.\\nThe following table lists several Iranian cold beverages.\\nThe Azerbaijani people, living primarily in the region of Azerbaijan in northwestern Iran, have a number of local dishes that include Bonab kabab (Binab kababı),  the dumpling dish of joshpara (düşbərə), an offal-based dish named jaqul baqul typically containing liver and heart,  a variety of āsh called kələcoş,  a variation of qeyme that is called pıçaq, and a variation of kufte that is called Tabriz meatballs. There is also the traditional pastry of shekerbura (şəkərbura), which is identical to Khorasan\\'s shekarpare (šekarpāre). Despite the influences from Turkey, the food tastes noticeably Iranian, though also with its own unique features, such as using more lemon juice and butter than other groups of Iranians. \\nMeat and dates are the main ingredients in the cuisine of Iran\\'s southeastern region of Baluchistan.   Rice is primarily cultivated in the region of Makran.   Foods that are specific to the Iranian region of Baluchistan include tanurche (tarōnča; tanurče), a local variety of grilled meat that is prepared in a tanur, doogh-pa (dōq-pâ), a type of khoresh that contains doogh, and tabahag (tabâhag), that is meat prepared with pomegranate powder.   Baluchi cuisine also includes several date-based dishes, as well as various types of bread.  \\nThe southern coast of the Caspian Sea, which consists of the Iranian provinces of Gilan, Mazanderan, Alborz, and Golestan, has a fertile environment that is also reflected in its cuisine.   Kateh is a method of cooking rice that originates from this region.  This type of rice dish is also eaten there as a breakfast meal, either heated with milk and jam or cold with cheese and garlic. Caviar fish roes also hail from this region, and are typically served with eggs in frittatas and omelettesor eaten simply with Lavash and Butter. Fish is commonly eaten in the Gilan province, where Caspian Kutum is a   and usually served   along with rice. Smoked fish (Persian: ماهی دودی, Romanized: Mahi doodi) is also popular in   and usually incorporated into rice by steaming the two together.  Local cookies (koluče) of the region are popular desert items,  particularly those from the region of Fuman. Another notable dessert from this region is Reshteh Khoshkar (Persian: رشته خشکار), consisting of fried rice flour dough filled with sugar and nuts. Medlar is also commonly eaten in   and locally referred to as \"Konos\" (Persian: کونوس).\\nThe region of Kurdistan in western Iran is home to a variety of local āsh, pilaf, and stew dishes.  Some local Kurdish dishes include a traditional grilled rib meat that is called dande kabāb,  a type of khoresh made of chives that is called xoreš-e tare,  and a dish of rice and potatoes that is called sib polow. \\nThe food of southern Iran is typically spicy.  Mahyawa is a tangy sauce made of fermented fish in this region.[citation   Being a coastal region, Khuzestan\\'s cuisine includes especially seafood, as well as some unique local beverages.  In southern Khuzestan, there is also a variation of kufte that is known as kibbeh and is made of ground meat, cracked wheat, different types of herbs and vegetables and various spices.\\nIran\\'s Turkmen people are predominantly centered in the Iranian provinces of Golestan and North Khorasan. Chegderme (čekderme) is a Turkmen dish made of rice, meat, and tomato paste. \\nThe basic traditional Iranian breakfast consists of a variety of flat breads, butter cubes, white cheese, whipped heavy cream (sarshir; often sweetened with honey), nuts (especially walnuts) and a variety of fruit jams and spreads.\\nMany cities and towns across Iran feature their own distinct versions of breakfast dishes. Pache, a popular traditional dish widely eaten in Iran and the neighboring Caucasus, is almost always only served from three in the morning until sometime after dawn, and specialty restaurants (serving only pache) are only open during those hours.\\nTraditional Iranian cooking is done in stages, at times needing hours of preparation and attention. The outcome is a well-balanced mixture of herbs, meat, beans, dairy products, and vegetables. Major staples of Iranian food that are usually eaten with every meal include rice, various herbs, cheese, a variety of flat breads, and some type of meat (usually poultry, beef, lamb, or fish). Stew over rice is by far the most popular dish, and the constitution of these vary by region.\\nTraditional Iranian table setting firstly involves the tablecloth, called sofre, and is spread out over either a table or a rug. Main dishes are concentrated in the middle, surrounded by smaller dishes containing appetizers, condiments, and side dishes, all of which are nearest to the diners. When the food is perfectly served, an invitation is made to seat at the sofre and start having the meal.'"
            ]
          },
          "execution_count": 7,
          "metadata": {},
          "output_type": "execute_result"
        }
      ],
      "source": [
        "# Afficher article_text\n",
        "article_text"
      ]
    },
    {
      "cell_type": "markdown",
      "metadata": {
        "id": "_eqLQQ1tTr1-"
      },
      "source": [
        "### <font color=\"#48dbfb\"> Text Summarization"
      ]
    },
    {
      "cell_type": "markdown",
      "metadata": {
        "id": "c3dlAgyRvLa4"
      },
      "source": [
        "#### <font color=\"#fd79a8\">Tokeniser en phrase"
      ]
    },
    {
      "cell_type": "code",
      "execution_count": 5,
      "metadata": {
        "id": "Q1BxJpQx15ss"
      },
      "outputs": [],
      "source": [
        "# Tokeniser en phrase\n",
        "sentence_list = nltk.sent_tokenize(article_text)"
      ]
    },
    {
      "cell_type": "markdown",
      "metadata": {
        "id": "eZ-LlCwBwE7J"
      },
      "source": [
        "#### <font color=\"#fd79a8\"> Calculer les frequences des mots"
      ]
    },
    {
      "cell_type": "code",
      "execution_count": 6,
      "metadata": {
        "id": "fA4mWOgK2X6Y"
      },
      "outputs": [],
      "source": [
        "# Stopwords\n",
        "stopwords = nltk.corpus.stopwords.words('english')\n",
        "# Dictionnaire de fréquences des mots\n",
        "word_frequencies = {}\n",
        "for word in nltk.word_tokenize(article_text):\n",
        "    if word not in stopwords:\n",
        "        if word not in word_frequencies.keys():\n",
        "            word_frequencies[word] = 1\n",
        "        else:\n",
        "            word_frequencies[word] += 1"
      ]
    },
    {
      "cell_type": "code",
      "execution_count": null,
      "metadata": {
        "id": "dtwYImpITr2B"
      },
      "outputs": [],
      "source": [
        "# Afficher word_frequencies\n",
        "word_frequencies"
      ]
    },
    {
      "cell_type": "markdown",
      "metadata": {
        "id": "OzSatUTS8WK7"
      },
      "source": [
        "#### <font color=\"#fd79a8\"> Fréquence pondérée de chaque mots"
      ]
    },
    {
      "cell_type": "code",
      "execution_count": 7,
      "metadata": {
        "id": "D34gqm-42lBq"
      },
      "outputs": [],
      "source": [
        "# Fréquence maximale\n",
        "maximum_frequency = max(word_frequencies.values())\n",
        "# Calculer la fréquence pondérée\n",
        "for word in word_frequencies.keys():\n",
        "    word_frequencies[word] = word_frequencies[word] / maximum_frequency"
      ]
    },
    {
      "cell_type": "code",
      "execution_count": null,
      "metadata": {
        "id": "IP38W8xkTr2C"
      },
      "outputs": [],
      "source": [
        "# afficher word_frequencies\n",
        "word_frequencies"
      ]
    },
    {
      "cell_type": "markdown",
      "metadata": {
        "id": "p2LMj2pa8L0k"
      },
      "source": [
        "#### <font color=\"#fd79a8\"> Score des phrases"
      ]
    },
    {
      "cell_type": "code",
      "execution_count": 8,
      "metadata": {
        "id": "fNUVxbcD2lOD"
      },
      "outputs": [],
      "source": [
        "# Liste des scores de chaque phrase\n",
        "sentence_scores = {}\n",
        "# Calculer le score de chaque phrase\n",
        "for sent in sentence_list:\n",
        "    for word in nltk.word_tokenize(sent.lower()):\n",
        "        if word in word_frequencies.keys():\n",
        "            if len(sent.split(' ')) < 30:\n",
        "                if sent not in sentence_scores.keys():\n",
        "                    sentence_scores[sent] = word_frequencies[word]\n",
        "                else:\n",
        "                    sentence_scores[sent] += word_frequencies[word]"
      ]
    },
    {
      "cell_type": "code",
      "execution_count": null,
      "metadata": {
        "id": "B32_rWzoTr2E"
      },
      "outputs": [],
      "source": [
        "# Afficher sentences scores\n",
        "sentence_scores"
      ]
    },
    {
      "cell_type": "markdown",
      "metadata": {
        "id": "W0mMnhCX8lLJ"
      },
      "source": [
        "#### <font color=\"#fd79a8\"> Résumé de l'article"
      ]
    },
    {
      "cell_type": "code",
      "execution_count": 9,
      "metadata": {
        "id": "ThhA39562rxN"
      },
      "outputs": [
        {
          "data": {
            "text/plain": [
              "['The measurements and directions are not as detailed as in the earlier book.',\n",
              " 'Iranians traditionally put a lump of sugar cube in the mouth before drinking the tea.',\n",
              " 'The food of southern Iran is typically spicy.',\n",
              " \"Iran's Turkmen people are predominantly centered in the Iranian provinces of Golestan and North Khorasan.\",\n",
              " 'The agriculture of Iran produces many fruits and vegetables.',\n",
              " 'The dolma is then simmered in meat broth or ascallions sweet-and-sour sauce.',\n",
              " 'Other contemporary cooks and their specialties are also mentioned.',\n",
              " 'The following is a list of several Iranian desserts.',\n",
              " 'It is also mixed with vinegar into which broad beans are dipped before eating.',\n",
              " 'Fruit dolma is probably a specialty of Iranian cuisine.']"
            ]
          },
          "execution_count": 9,
          "metadata": {},
          "output_type": "execute_result"
        }
      ],
      "source": [
        "# Ordonner les phrases par pondération et recupérer les 10 premières phrases\n",
        "summary_sentences = sorted(sentence_scores, key=sentence_scores.get, reverse=False)[:10]\n",
        "# regrouper ensemble les phrases qui ont les poids les plus élévés\n",
        "summary = ' '.join(summary_sentences)\n",
        "\n",
        "# Afficher le résumé\n",
        "summary_sentences"
      ]
    },
    {
      "cell_type": "markdown",
      "metadata": {
        "id": "K5T49AflTr2F"
      },
      "source": [
        "## <font color=\"#F0000\"> Text summarization avec sumy"
      ]
    },
    {
      "cell_type": "code",
      "execution_count": 10,
      "metadata": {
        "id": "_PXzDOzLTr2F"
      },
      "outputs": [
        {
          "name": "stdout",
          "output_type": "stream",
          "text": [
            "Requirement already satisfied: sumy in c:\\users\\morcodou.seck\\appdata\\local\\programs\\python\\python311\\lib\\site-packages (0.11.0)\n",
            "Requirement already satisfied: docopt<0.7,>=0.6.1 in c:\\users\\morcodou.seck\\appdata\\local\\programs\\python\\python311\\lib\\site-packages (from sumy) (0.6.2)\n",
            "Requirement already satisfied: breadability>=0.1.20 in c:\\users\\morcodou.seck\\appdata\\local\\programs\\python\\python311\\lib\\site-packages (from sumy) (0.1.20)\n",
            "Requirement already satisfied: requests>=2.7.0 in c:\\users\\morcodou.seck\\appdata\\local\\programs\\python\\python311\\lib\\site-packages (from sumy) (2.28.2)\n",
            "Requirement already satisfied: pycountry>=18.2.23 in c:\\users\\morcodou.seck\\appdata\\local\\programs\\python\\python311\\lib\\site-packages (from sumy) (22.3.5)\n",
            "Requirement already satisfied: nltk>=3.0.2 in c:\\users\\morcodou.seck\\appdata\\local\\programs\\python\\python311\\lib\\site-packages (from sumy) (3.8.1)\n",
            "Requirement already satisfied: chardet in c:\\users\\morcodou.seck\\appdata\\local\\programs\\python\\python311\\lib\\site-packages (from breadability>=0.1.20->sumy) (5.2.0)\n",
            "Requirement already satisfied: lxml>=2.0 in c:\\users\\morcodou.seck\\appdata\\local\\programs\\python\\python311\\lib\\site-packages (from breadability>=0.1.20->sumy) (4.9.2)\n",
            "Requirement already satisfied: click in c:\\users\\morcodou.seck\\appdata\\local\\programs\\python\\python311\\lib\\site-packages (from nltk>=3.0.2->sumy) (8.1.7)\n",
            "Requirement already satisfied: joblib in c:\\users\\morcodou.seck\\appdata\\local\\programs\\python\\python311\\lib\\site-packages (from nltk>=3.0.2->sumy) (1.3.2)\n",
            "Requirement already satisfied: regex>=2021.8.3 in c:\\users\\morcodou.seck\\appdata\\local\\programs\\python\\python311\\lib\\site-packages (from nltk>=3.0.2->sumy) (2023.10.3)\n",
            "Requirement already satisfied: tqdm in c:\\users\\morcodou.seck\\appdata\\local\\programs\\python\\python311\\lib\\site-packages (from nltk>=3.0.2->sumy) (4.66.1)\n",
            "Requirement already satisfied: setuptools in c:\\users\\morcodou.seck\\appdata\\local\\programs\\python\\python311\\lib\\site-packages (from pycountry>=18.2.23->sumy) (65.5.0)\n",
            "Requirement already satisfied: charset-normalizer<4,>=2 in c:\\users\\morcodou.seck\\appdata\\local\\programs\\python\\python311\\lib\\site-packages (from requests>=2.7.0->sumy) (3.1.0)\n",
            "Requirement already satisfied: idna<4,>=2.5 in c:\\users\\morcodou.seck\\appdata\\local\\programs\\python\\python311\\lib\\site-packages (from requests>=2.7.0->sumy) (3.4)\n",
            "Requirement already satisfied: urllib3<1.27,>=1.21.1 in c:\\users\\morcodou.seck\\appdata\\local\\programs\\python\\python311\\lib\\site-packages (from requests>=2.7.0->sumy) (1.26.15)\n",
            "Requirement already satisfied: certifi>=2017.4.17 in c:\\users\\morcodou.seck\\appdata\\local\\programs\\python\\python311\\lib\\site-packages (from requests>=2.7.0->sumy) (2022.12.7)\n",
            "Requirement already satisfied: colorama in c:\\users\\morcodou.seck\\appdata\\roaming\\python\\python311\\site-packages (from click->nltk>=3.0.2->sumy) (0.4.6)\n"
          ]
        },
        {
          "name": "stderr",
          "output_type": "stream",
          "text": [
            "\n",
            "[notice] A new release of pip available: 22.3.1 -> 23.3.1\n",
            "[notice] To update, run: python.exe -m pip install --upgrade pip\n"
          ]
        }
      ],
      "source": [
        "!pip install sumy"
      ]
    },
    {
      "cell_type": "code",
      "execution_count": 11,
      "metadata": {
        "id": "dGBzL8OkTr2G"
      },
      "outputs": [],
      "source": [
        "# Importer les packages\n",
        "from sumy.parsers.plaintext import PlaintextParser\n",
        "from sumy.nlp.tokenizers import Tokenizer\n",
        "\n",
        "# Créer un text parser utilisant de tokenisation\n",
        "parser = PlaintextParser.from_string(article_text, Tokenizer('english'))"
      ]
    },
    {
      "cell_type": "code",
      "execution_count": null,
      "metadata": {},
      "outputs": [],
      "source": [
        "parser.document.sentences"
      ]
    },
    {
      "cell_type": "markdown",
      "metadata": {
        "id": "5vzbQa_yTr2G"
      },
      "source": [
        "### <font color=\"#48dbfb\">  TextRankSummarizer"
      ]
    },
    {
      "cell_type": "code",
      "execution_count": 12,
      "metadata": {
        "id": "DMo1eV3KTr2G"
      },
      "outputs": [
        {
          "data": {
            "text/plain": [
              "'Among the writings available from the Middle Persian scripts, the treatise of Khosrow and Ridag, points about stews and foods and the way of using them and how they are obtained in the Sassanid period are found as valid references in compiling the history of cooking in Iran.Although the Arabic cookbooks written under the rule of the Abbasid Caliphate—one of the Arab caliphates which ruled Iran after the Muslim invasion—include some recipes with Iranian names, the earliest surviving classical cookbooks in Persian are two volumes from the Safavid period.The large quantities specified, as well as the generous use of such luxury ingredients as saffron, suggest that these dishes were prepared for large aristocratic households, even though in his introduction, the author claimed to have written it \"for the benefit of the nobility, as well as the public.\"Traditionally, rice was most prevalent as a major staple item in northern Iran and the homes of the wealthy, while bread was the dominant staple in the rest of the country.The Azerbaijani people, living primarily in the region of Azerbaijan in northwestern Iran, have a number of local dishes that include Bonab kabab (Binab kababı),  the dumpling dish of joshpara (düşbərə), an offal-based dish named jaqul baqul typically containing liver and heart,  a variety of āsh called kələcoş,  a variation of qeyme that is called pıçaq, and a variation of kufte that is called Tabriz meatballs.'"
            ]
          },
          "execution_count": 12,
          "metadata": {},
          "output_type": "execute_result"
        }
      ],
      "source": [
        "# Importer le TextRankSummarizer\n",
        "from sumy.summarizers.text_rank import TextRankSummarizer\n",
        "\n",
        "# Initialiser le modèle\n",
        "summarizer_textrank = TextRankSummarizer()\n",
        "\n",
        "# Summariser en 5 phrases\n",
        "summary = summarizer_textrank(parser.document, 5)\n",
        "\n",
        "# Regrouper les phrases\n",
        "text_summary = \"\"\n",
        "for sentence in summary:\n",
        "    text_summary += str(sentence)\n",
        "\n",
        "# Afficher le summary\n",
        "text_summary"
      ]
    },
    {
      "cell_type": "markdown",
      "metadata": {
        "id": "cPE4_1QBTr2H"
      },
      "source": [
        "### <font color=\"#48dbfb\">  LexRankSummarizer"
      ]
    },
    {
      "cell_type": "code",
      "execution_count": 13,
      "metadata": {
        "id": "eyHJguyITr2H"
      },
      "outputs": [
        {
          "data": {
            "text/plain": [
              "'The cuisine of Iran has made extensive contact throughout its history with the cuisines of its neighbouring regions, including Caucasian cuisine, Central Asian cuisine, Greek cuisine, Levantine cuisine, Mesopotamian cuisine, Russian cuisine and Turkish cuisine.Typical Iranian main dishes are combinations of rice with meat, vegetables and nuts.A polow dish includes rice stuffed with cuts of vegetables, fruits, and beans, usually accompanied by either chicken or red meat.Turkish coffee is also popular in Iran, more specifically among Iranian Azeris.Prior to the 1979 Revolution, it had been produced traditionally in several cities of Iran.'"
            ]
          },
          "execution_count": 13,
          "metadata": {},
          "output_type": "execute_result"
        }
      ],
      "source": [
        "# Importer LexRankSummarizer\n",
        "from sumy.summarizers.lex_rank import LexRankSummarizer\n",
        "# Initialiser le modèle\n",
        "summarizer_lexrank = LexRankSummarizer()\n",
        "\n",
        "# Summariser en 5 phrases\n",
        "summary = summarizer_lexrank(parser.document, 5)\n",
        "\n",
        "# Regrouper les phrases\n",
        "text_summary = \"\"\n",
        "for sentence in summary:\n",
        "    text_summary += str(sentence)\n",
        "    \n",
        "# Afficher le summary\n",
        "text_summary"
      ]
    },
    {
      "cell_type": "markdown",
      "metadata": {
        "id": "wrzx6o3pTr2I"
      },
      "source": [
        "### <font color=\"#48dbfb\"> LsaSummarizer"
      ]
    },
    {
      "cell_type": "code",
      "execution_count": 14,
      "metadata": {
        "id": "sc5LSeegTr2I"
      },
      "outputs": [
        {
          "name": "stdout",
          "output_type": "stream",
          "text": [
            "Thus, a bowl of fresh fruit is common on Iranian tables, and vegetables are standard side dishes in most meals.A polow dish includes rice stuffed with cuts of vegetables, fruits, and beans, usually accompanied by either chicken or red meat.Araq sagi, literally meaning \"doggy distillate\", is a type of distilled alcoholic beverage in Iran which contains at least 65% pure ethanol.Smoked fish (Persian: ماهی دودی, Romanized: Mahi doodi) is also popular in   and usually incorporated into rice by steaming the two together.Another notable dessert from this region is Reshteh Khoshkar (Persian: رشته خشکار), consisting of fried rice flour dough filled with sugar and nuts.\n"
          ]
        }
      ],
      "source": [
        "# Importer LsaSummarizer\n",
        "from sumy.summarizers.lsa import LsaSummarizer\n",
        "# Initialiser le modèle\n",
        "summarizer_lsa = LsaSummarizer()\n",
        "\n",
        "# Summariser en 5 phrases\n",
        "summary = summarizer_lsa(parser.document, 5)\n",
        "\n",
        "# Regrouper les phrases\n",
        "text_summary = \"\"\n",
        "for sentence in summary:\n",
        "    text_summary += str(sentence)\n",
        "\n",
        "# Afficher le summary\n",
        "print(text_summary)"
      ]
    }
  ],
  "metadata": {
    "accelerator": "GPU",
    "colab": {
      "provenance": []
    },
    "kernelspec": {
      "display_name": "Python 3 (ipykernel)",
      "language": "python",
      "name": "python3"
    },
    "language_info": {
      "codemirror_mode": {
        "name": "ipython",
        "version": 3
      },
      "file_extension": ".py",
      "mimetype": "text/x-python",
      "name": "python",
      "nbconvert_exporter": "python",
      "pygments_lexer": "ipython3",
      "version": "3.11.1"
    }
  },
  "nbformat": 4,
  "nbformat_minor": 0
}
